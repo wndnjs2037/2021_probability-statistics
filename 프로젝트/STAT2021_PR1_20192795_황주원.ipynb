{
 "cells": [
  {
   "cell_type": "markdown",
   "metadata": {},
   "source": [
    "< 가장 단순한 마피아 게임 구현 >"
   ]
  },
  {
   "cell_type": "code",
   "execution_count": 59,
   "metadata": {},
   "outputs": [
    {
     "name": "stdout",
     "output_type": "stream",
     "text": [
      "[2, 2, 1, 2, 2, 1, 1, 0, 1, 3]\n"
     ]
    }
   ],
   "source": [
    "import numpy as np\n",
    "import random\n",
    "from time import sleep\n",
    "\n",
    "# 랜덤 리스트(참가자) 생성 함수\n",
    "def rand_list_create(size):\n",
    "    result = []\n",
    "    for v in range(size):\n",
    "        result.append(random.randint(0, 3)) # 0~3 까지의 랜덤 숫자 생성\n",
    "        \n",
    "    return result\n",
    "\n",
    "# 참가자 entry 생성\n",
    "entry = rand_list_create(10)\n",
    "entry_length = len(entry)\n",
    "print(entry)"
   ]
  },
  {
   "cell_type": "code",
   "execution_count": 60,
   "metadata": {},
   "outputs": [
    {
     "name": "stdout",
     "output_type": "stream",
     "text": [
      "0번은 메딕입니다.\n",
      "1번은 메딕입니다.\n",
      "2번은 경찰입니다.\n",
      "3번은 메딕입니다.\n",
      "4번은 메딕입니다.\n",
      "5번은 경찰입니다.\n",
      "6번은 경찰입니다.\n",
      "7번은 시민입니다.\n",
      "8번은 경찰입니다.\n",
      "9번은 마피아입니다.\n"
     ]
    }
   ],
   "source": [
    "# 리스트 안의 인덱스 번호별로 직업을 확인해주는 for문을 포함한 함수\n",
    "# 0 : 시민 / 1 : 경찰 / 2 : 메딕 / 3 : 마피아\n",
    "def entry_check():\n",
    "    for i in range(0, entry_length):\n",
    "        if entry[i] == 0:\n",
    "            print(\"%d번은 시민입니다.\" %i)\n",
    "            \n",
    "        elif entry[i] == 1:\n",
    "            print(\"%d번은 경찰입니다.\" %i)\n",
    "\n",
    "        elif entry[i] == 2:\n",
    "            print(\"%d번은 메딕입니다.\" %i)\n",
    "\n",
    "        else:\n",
    "            print(\"%d번은 마피아입니다.\" %i)\n",
    "    \n",
    "            \n",
    "entry_check()"
   ]
  },
  {
   "cell_type": "code",
   "execution_count": 67,
   "metadata": {},
   "outputs": [
    {
     "name": "stdout",
     "output_type": "stream",
     "text": [
      "[0, 1, 2, 3, 0, 1, 2, 3, 0, 1]\n"
     ]
    }
   ],
   "source": [
    "# 아침에 참가자 리스트 안에서 한 명 랜덤으로 삭제하기\n",
    "# 재실행시 삭제된 번호는 제외하고 해야함\n",
    "# if 문으로 4개 직업 모두 있는 경우 ~ 1개 직업만 있는 경우로 분류?\n",
    "# 제외 처리는 한 직업(한개의 인덱스)씩 진행.\n",
    "\n",
    "### 프로그램 테스트용 entry \n",
    "entry_test=[0,1,2,3,0,1,2,3,0,1]\n",
    "print(entry_test)\n",
    "###\n",
    "\n",
    "def fisrt_kill_morning(entry): #첫날 아침에 랜덤으로 참가자 중 한명을 죽이는 함수\n",
    "    death = random.randrange(0, 3)\n",
    "    death_index = entry.index(death)\n",
    "    entry.remove(death)\n",
    "    print(\"%d번이 사망했습니다.\" %death_index)\n",
    "    \n",
    "    global after_death_length\n",
    "    after_death_length = len(entry)\n",
    "\n",
    "\n",
    "    # 0 1 2 3 순서로 타고들어가는거 말고 한개씩 제외하는 방법을 생각해야 함 . .. . \n",
    "def kill_morning(entry):\n",
    "    if 0 & 1 & 2 & 3 in entry_test: #0 1 2 3 모두 있는 경우\n",
    "        death = random.randrange(0, 3) #0 1 2 3 중 랜덤으로 죽임\n",
    "        death_index = entry.index(death) #랜덤으로 고른 인덱스 번호 저장\n",
    "        entry.remove(death) #랜덤으로 골라진 참가자를 리스트에서 삭제\n",
    "        print(\"%d번이 사망했습니다.\" %death_index) #삭제된 인덱스의 번호를 출력\n",
    "        \n",
    "    elif 1 & 2 & 3 in entry_test: # 1 2 3 만 있는 경우\n",
    "        death = random.randrange(1, 3) #1 2 3 중 랜덤으로 죽임\n",
    "        death_index = entry.index(death)\n",
    "        entry.remove(death)\n",
    "        print(\"%d번이 사망했습니다.\" %death_index)\n",
    "        \n",
    "                \n",
    "    elif 2 & 3 in entry_test: # 2 3 만 있는 경우\n",
    "        death = random.randrange(2, 3) # 2 3 중 랜덤으로 죽임\n",
    "        death_index = entry.index(death) \n",
    "        entry.remove(death)\n",
    "        print(\"%d번이 사망했습니다.\" %death_index)\n",
    "        \n",
    "                 \n",
    "    elif 3 in entry_test: # 3 만 있는 경우\n",
    "        death = 3 #3을 죽임\n",
    "        death_index = entry.index(death)\n",
    "        entry.remove(death)\n",
    "        print(\"%d번이 사망했습니다.\" %death_index)\n",
    "        #print(\"이 경우엔 마피아만 있는거니까 게임 종료되어야 함\")     \n",
    "    \n",
    "    global after_death_length\n",
    "    after_death_length = len(entry)-1"
   ]
  },
  {
   "cell_type": "code",
   "execution_count": 68,
   "metadata": {},
   "outputs": [
    {
     "name": "stdout",
     "output_type": "stream",
     "text": [
      "[0, 1, 2, 3, 0, 1, 2, 3, 0, 1]\n"
     ]
    }
   ],
   "source": [
    "# 밤에 마피아가 참가자 리스트에서 한명을 랜덤으로 삭제하기 (마피아 자신 제외)\n",
    "entry_test=[0,1,2,3,0,1,2,3,0,1]\n",
    "print(entry_test)\n",
    "\n",
    "def mafia_kill_night(entry): #밤이 되어 마피아가 랜덤으로 참가자 중 한명을 죽임\n",
    "    m_death = random.randrange(0, 2)\n",
    "    global m_death_index \n",
    "    m_death_index = entry.index(m_death)\n",
    "    entry.remove(m_death)\n",
    "    \n",
    "mafia_kill_night(entry_test)"
   ]
  },
  {
   "cell_type": "code",
   "execution_count": 69,
   "metadata": {},
   "outputs": [
    {
     "name": "stdout",
     "output_type": "stream",
     "text": [
      "- 게임이 시작되었습니다. - \n",
      "- 아침이 밝았습니다. -\n",
      "아침에는 참가자 중 한명이 무작위로 사망합니다.\n",
      "현재 참가자의 수는 10명 입니다.\n",
      "...\n",
      "1번이 사망했습니다.\n",
      "남은 참가자의 명단은 다음과 같습니다.\n",
      "[0, 2, 3, 0, 1, 2, 3, 0, 1]\n",
      "날이 저물어갑니다.\n",
      "- 밤이 되었습니다. -\n",
      "마피아는 일어나 죽일 사람을 지목하여 주세요.\n",
      "...\n",
      "- 아침이 밝았습니다. -\n",
      "지난 밤에 4번이 마피아에 의해 사망했습니다.\n",
      "남은 참가자의 명단은 다음과 같습니다.\n",
      "[0, 2, 3, 0, 2, 3, 0, 1]\n",
      "아침이 되어 참가자 중 한명이 무작위로 사망합니다.\n",
      "현재 참가자의 수는 8명 입니다.\n",
      "...\n",
      "1번이 사망했습니다.\n",
      "남은 참가자의 명단은 다음과 같습니다.\n",
      "[0, 3, 0, 2, 3, 0, 1]\n",
      "날이 저물어갑니다.\n",
      "- 밤이 되었습니다. -\n",
      "마피아는 일어나 죽일 사람을 지목하여 주세요.\n",
      "...\n",
      "- 아침이 밝았습니다. -\n",
      "지난 밤에 6번이 마피아에 의해 사망했습니다.\n",
      "남은 참가자의 명단은 다음과 같습니다.\n",
      "[0, 3, 0, 2, 3, 0]\n",
      "아침이 되어 참가자 중 한명이 무작위로 사망합니다.\n",
      "현재 참가자의 수는 6명 입니다.\n",
      "...\n",
      "3번이 사망했습니다.\n",
      "남은 참가자의 명단은 다음과 같습니다.\n",
      "[0, 3, 0, 3, 0]\n",
      "날이 저물어갑니다.\n",
      "- 밤이 되었습니다. -\n",
      "마피아는 일어나 죽일 사람을 지목하여 주세요.\n",
      "...\n"
     ]
    }
   ],
   "source": [
    "entry_test=[0,1,2,3,0,1,2,3,0,1]\n",
    "entry_test_length = len(entry_test)\n",
    "print(\"- 게임이 시작되었습니다. - \")\n",
    "\n",
    "#print(\"게임에 참가한 사람들의 명단은 다음과 같습니다.\") #참가자 확인용\n",
    "#print(entry_test)\n",
    "\n",
    "def fisrt_morning(): #게임 시작 후 첫 날 아침 랜덤으로 한명이 죽는 내용의 함수\n",
    "    print(\"- 아침이 밝았습니다. -\")\n",
    "    print(\"아침에는 참가자 중 한명이 무작위로 사망합니다.\")\n",
    "    print(\"현재 참가자의 수는 %d명 입니다.\" %entry_test_length)\n",
    "    print(\"...\")\n",
    "    kill_morning(entry_test)\n",
    "    print(\"남은 참가자의 명단은 다음과 같습니다.\")\n",
    "    print(entry_test)\n",
    "\n",
    "def other_morning(): #게임 시작후 이튿날 부터 랜덤으로 한명이 죽는 내용의 함수\n",
    "    print(\"- 아침이 밝았습니다. -\")\n",
    "    print(\"지난 밤에 %d번이 마피아에 의해 사망했습니다.\" %m_death_index)\n",
    "    print(\"남은 참가자의 명단은 다음과 같습니다.\")\n",
    "    print(entry_test)\n",
    "    print(\"아침이 되어 참가자 중 한명이 무작위로 사망합니다.\")\n",
    "    print(\"현재 참가자의 수는 %d명 입니다.\" %after_death_length)\n",
    "    print(\"...\")\n",
    "    kill_morning(entry_test)\n",
    "    print(\"남은 참가자의 명단은 다음과 같습니다.\")\n",
    "    print(entry_test)\n",
    "    \n",
    "def night(): #밤이 되어 마피아가 참가자 중 한명을 죽이는 함수를 실행하는 함수\n",
    "    print(\"날이 저물어갑니다.\")\n",
    "    print(\"- 밤이 되었습니다. -\")\n",
    "    print(\"마피아는 일어나 죽일 사람을 지목하여 주세요.\")\n",
    "    print(\"...\")\n",
    "    mafia_kill_night(entry_test)\n",
    "\n",
    "fisrt_morning()\n",
    "night()\n",
    "other_morning()\n",
    "night()\n",
    "other_morning()\n",
    "night()"
   ]
  },
  {
   "cell_type": "code",
   "execution_count": 70,
   "metadata": {},
   "outputs": [
    {
     "name": "stdout",
     "output_type": "stream",
     "text": [
      "[3, 0, 3, 0]\n"
     ]
    }
   ],
   "source": [
    "# 반복하여 낮과 밤이 지나가다가 리스트안의 요소가 모두 없어지면(0이 되면) 게임을 종료\n",
    "\n",
    "''' 확인용\n",
    "entry_test.remove(0)\n",
    "entry_test.remove(1)\n",
    "entry_test.remove(2)\n",
    "entry_test.remove(3)\n",
    "entry_test.remove(0)\n",
    "entry_test.remove(1)\n",
    "entry_test.remove(2)\n",
    "entry_test.remove(3)\n",
    "entry_test.remove(0)\n",
    "entry_test.remove(1)\n",
    "\n",
    "print(entry_test)\n",
    "'''\n",
    "\n",
    "def gameover():\n",
    "    if len(entry_test) == 0: \n",
    "        print(\"모든 참가자가 죽었습니다. 게임이 종료됩니다.\")\n",
    "    \n",
    "print(entry_test)\n",
    "gameover()"
   ]
  },
  {
   "cell_type": "code",
   "execution_count": 72,
   "metadata": {},
   "outputs": [
    {
     "name": "stdout",
     "output_type": "stream",
     "text": [
      "- 아침이 밝았습니다. -\n",
      "아침에는 참가자 중 한명이 무작위로 사망합니다.\n",
      "현재 참가자의 수는 10명 입니다.\n",
      "...\n"
     ]
    },
    {
     "ename": "ValueError",
     "evalue": "1 is not in list",
     "output_type": "error",
     "traceback": [
      "\u001b[1;31m---------------------------------------------------------------------------\u001b[0m",
      "\u001b[1;31mValueError\u001b[0m                                Traceback (most recent call last)",
      "\u001b[1;32m<ipython-input-72-818ce018876c>\u001b[0m in \u001b[0;36m<module>\u001b[1;34m\u001b[0m\n\u001b[0;32m     10\u001b[0m \u001b[0mother_morning\u001b[0m\u001b[1;33m(\u001b[0m\u001b[1;33m)\u001b[0m\u001b[1;33m\u001b[0m\u001b[1;33m\u001b[0m\u001b[0m\n\u001b[0;32m     11\u001b[0m '''\n\u001b[1;32m---> 12\u001b[1;33m \u001b[0mfisrt_morning\u001b[0m\u001b[1;33m(\u001b[0m\u001b[1;33m)\u001b[0m\u001b[1;33m\u001b[0m\u001b[1;33m\u001b[0m\u001b[0m\n\u001b[0m\u001b[0;32m     13\u001b[0m \u001b[1;32mwhile\u001b[0m\u001b[1;33m(\u001b[0m\u001b[0mlen\u001b[0m\u001b[1;33m(\u001b[0m\u001b[0mentry_test\u001b[0m\u001b[1;33m)\u001b[0m \u001b[1;33m!=\u001b[0m \u001b[1;36m0\u001b[0m\u001b[1;33m)\u001b[0m\u001b[1;33m:\u001b[0m\u001b[1;33m\u001b[0m\u001b[1;33m\u001b[0m\u001b[0m\n\u001b[0;32m     14\u001b[0m     \u001b[0mnight\u001b[0m\u001b[1;33m(\u001b[0m\u001b[1;33m)\u001b[0m\u001b[1;33m\u001b[0m\u001b[1;33m\u001b[0m\u001b[0m\n",
      "\u001b[1;32m<ipython-input-69-6b9239a66e96>\u001b[0m in \u001b[0;36mfisrt_morning\u001b[1;34m()\u001b[0m\n\u001b[0;32m     11\u001b[0m     \u001b[0mprint\u001b[0m\u001b[1;33m(\u001b[0m\u001b[1;34m\"현재 참가자의 수는 %d명 입니다.\"\u001b[0m \u001b[1;33m%\u001b[0m\u001b[0mentry_test_length\u001b[0m\u001b[1;33m)\u001b[0m\u001b[1;33m\u001b[0m\u001b[1;33m\u001b[0m\u001b[0m\n\u001b[0;32m     12\u001b[0m     \u001b[0mprint\u001b[0m\u001b[1;33m(\u001b[0m\u001b[1;34m\"...\"\u001b[0m\u001b[1;33m)\u001b[0m\u001b[1;33m\u001b[0m\u001b[1;33m\u001b[0m\u001b[0m\n\u001b[1;32m---> 13\u001b[1;33m     \u001b[0mkill_morning\u001b[0m\u001b[1;33m(\u001b[0m\u001b[0mentry_test\u001b[0m\u001b[1;33m)\u001b[0m\u001b[1;33m\u001b[0m\u001b[1;33m\u001b[0m\u001b[0m\n\u001b[0m\u001b[0;32m     14\u001b[0m     \u001b[0mprint\u001b[0m\u001b[1;33m(\u001b[0m\u001b[1;34m\"남은 참가자의 명단은 다음과 같습니다.\"\u001b[0m\u001b[1;33m)\u001b[0m\u001b[1;33m\u001b[0m\u001b[1;33m\u001b[0m\u001b[0m\n\u001b[0;32m     15\u001b[0m     \u001b[0mprint\u001b[0m\u001b[1;33m(\u001b[0m\u001b[0mentry_test\u001b[0m\u001b[1;33m)\u001b[0m\u001b[1;33m\u001b[0m\u001b[1;33m\u001b[0m\u001b[0m\n",
      "\u001b[1;32m<ipython-input-67-4691bbfe3196>\u001b[0m in \u001b[0;36mkill_morning\u001b[1;34m(entry)\u001b[0m\n\u001b[0;32m     23\u001b[0m     \u001b[1;32mif\u001b[0m \u001b[1;36m0\u001b[0m \u001b[1;33m&\u001b[0m \u001b[1;36m1\u001b[0m \u001b[1;33m&\u001b[0m \u001b[1;36m2\u001b[0m \u001b[1;33m&\u001b[0m \u001b[1;36m3\u001b[0m \u001b[1;32min\u001b[0m \u001b[0mentry_test\u001b[0m\u001b[1;33m:\u001b[0m \u001b[1;31m#0 1 2 3 모두 있는 경우\u001b[0m\u001b[1;33m\u001b[0m\u001b[1;33m\u001b[0m\u001b[0m\n\u001b[0;32m     24\u001b[0m         \u001b[0mdeath\u001b[0m \u001b[1;33m=\u001b[0m \u001b[0mrandom\u001b[0m\u001b[1;33m.\u001b[0m\u001b[0mrandrange\u001b[0m\u001b[1;33m(\u001b[0m\u001b[1;36m0\u001b[0m\u001b[1;33m,\u001b[0m \u001b[1;36m3\u001b[0m\u001b[1;33m)\u001b[0m \u001b[1;31m#0 1 2 3 중 랜덤으로 죽임\u001b[0m\u001b[1;33m\u001b[0m\u001b[1;33m\u001b[0m\u001b[0m\n\u001b[1;32m---> 25\u001b[1;33m         \u001b[0mdeath_index\u001b[0m \u001b[1;33m=\u001b[0m \u001b[0mentry\u001b[0m\u001b[1;33m.\u001b[0m\u001b[0mindex\u001b[0m\u001b[1;33m(\u001b[0m\u001b[0mdeath\u001b[0m\u001b[1;33m)\u001b[0m \u001b[1;31m#랜덤으로 고른 인덱스 번호 저장\u001b[0m\u001b[1;33m\u001b[0m\u001b[1;33m\u001b[0m\u001b[0m\n\u001b[0m\u001b[0;32m     26\u001b[0m         \u001b[0mentry\u001b[0m\u001b[1;33m.\u001b[0m\u001b[0mremove\u001b[0m\u001b[1;33m(\u001b[0m\u001b[0mdeath\u001b[0m\u001b[1;33m)\u001b[0m \u001b[1;31m#랜덤으로 골라진 참가자를 리스트에서 삭제\u001b[0m\u001b[1;33m\u001b[0m\u001b[1;33m\u001b[0m\u001b[0m\n\u001b[0;32m     27\u001b[0m         \u001b[0mprint\u001b[0m\u001b[1;33m(\u001b[0m\u001b[1;34m\"%d번이 사망했습니다.\"\u001b[0m \u001b[1;33m%\u001b[0m\u001b[0mdeath_index\u001b[0m\u001b[1;33m)\u001b[0m \u001b[1;31m#삭제된 인덱스의 번호를 출력\u001b[0m\u001b[1;33m\u001b[0m\u001b[1;33m\u001b[0m\u001b[0m\n",
      "\u001b[1;31mValueError\u001b[0m: 1 is not in list"
     ]
    }
   ],
   "source": [
    "# 게임 실행\n",
    "    \n",
    "'''    \n",
    "fisrt_morning()\n",
    "night()\n",
    "other_morning()\n",
    "night()\n",
    "other_morning()\n",
    "night()\n",
    "other_morning()\n",
    "'''\n",
    "fisrt_morning()\n",
    "while(len(entry_test) != 0):\n",
    "    night()\n",
    "    other_morning()"
   ]
  },
  {
   "cell_type": "code",
   "execution_count": null,
   "metadata": {},
   "outputs": [],
   "source": []
  }
 ],
 "metadata": {
  "kernelspec": {
   "display_name": "Python 3",
   "language": "python",
   "name": "python3"
  },
  "language_info": {
   "codemirror_mode": {
    "name": "ipython",
    "version": 3
   },
   "file_extension": ".py",
   "mimetype": "text/x-python",
   "name": "python",
   "nbconvert_exporter": "python",
   "pygments_lexer": "ipython3",
   "version": "3.7.3"
  }
 },
 "nbformat": 4,
 "nbformat_minor": 4
}
