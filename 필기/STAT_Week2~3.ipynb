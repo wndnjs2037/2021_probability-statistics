{
 "cells": [
  {
   "cell_type": "code",
   "execution_count": 6,
   "metadata": {},
   "outputs": [],
   "source": [
    "import numpy as np\n",
    "import scipy as sp\n",
    "import sklearn as sk\n",
    "import pandas as pd\n",
    "import statsmodels as sm\n",
    "from matplotlib import pyplot"
   ]
  },
  {
   "cell_type": "code",
   "execution_count": 10,
   "metadata": {},
   "outputs": [
    {
     "name": "stdout",
     "output_type": "stream",
     "text": [
      "sys.version_info(major=3, minor=7, micro=3, releaselevel='final', serial=0)\n"
     ]
    }
   ],
   "source": [
    "#확률및통계 2주차 1강\n",
    "# python basic\n",
    "\n",
    "import sys #외부, 내부 패키지를 불러오는 명령어\n",
    "# pip, setuptools, conda 등을 설치하여 패키지를 설치할 수 있다.\n",
    "\n",
    "print(sys.version_info) #현재 사용중인 파이썬의 버전 확인 가능 : 3.7.3 버전임"
   ]
  },
  {
   "cell_type": "code",
   "execution_count": 13,
   "metadata": {},
   "outputs": [],
   "source": [
    "\"\"\"그냥 이 텍스트만 출력하면 스트링으로 인식돼서 결과값에 나옴, 이 이후에 코드를 적으면 안나오게됨 \"\"\" \n",
    "\n",
    "#파이썬은 인터프리터 언어이기 때문에 소스코드를 한 줄씩 읽어서 처리한다.\n",
    "\n",
    "# pypy -> 파이썬으로 짠 파이썬. cpy 보다 빠르다. 단, 파이썬으로만 되어있는 코드일 때. (numoy 등은 c로 짜여진 코드이다.)\n",
    "# cpy -> c로 짠 파이썬.\n",
    "\n",
    "# 변수 선언\n",
    "name = \"juwon\"\n",
    "\n",
    "var1 = 100 # int 타입으로 자동으로 지정\n",
    "var2 = 100.1 # float 타입으로 자동으로 지정\n",
    "var3 = \"String\" #sting 타입\n",
    "var4 = [100, 200] #list, 순서가 있음\n",
    "var5 = {1:100, 2:200} #딕셔너리 dict, 키와 값으로 이루어진 데이터(pair 형태), 순서가 없음\n",
    "vat6 = {100, 200, 300} #set, 값만 있는 데이터, 순서가 없음"
   ]
  },
  {
   "cell_type": "code",
   "execution_count": 27,
   "metadata": {},
   "outputs": [
    {
     "name": "stdout",
     "output_type": "stream",
     "text": [
      "15\n",
      "5\n",
      "50\n",
      "2.0\n",
      "0\n",
      "2\n",
      "10000\n"
     ]
    }
   ],
   "source": [
    "print(10 + 5)\n",
    "print(10 - 5)\n",
    "print(10 * 5)\n",
    "print(10 / 5)\n",
    "print(10 % 5) # 나머지(정수로 가정)\n",
    "print(10 // 5) #몫(정수로 가정), 몫과 나머지를 나누었을 때 나오는 갯수 (10에 5가 2번 들어가므로 2)\n",
    "#즉, 나누기 연산 후 소수점 이하의 수를 버리고, 정수 부분의 수만 구함\n",
    "print(10 ** 4) #거듭제곱 , 10^4"
   ]
  },
  {
   "cell_type": "code",
   "execution_count": 30,
   "metadata": {},
   "outputs": [
    {
     "name": "stdout",
     "output_type": "stream",
     "text": [
      "2\n",
      "3\n"
     ]
    }
   ],
   "source": [
    "a = 1\n",
    "a = a +1\n",
    "print(a)\n",
    "\n",
    "a += 1\n",
    "print(a)"
   ]
  },
  {
   "cell_type": "markdown",
   "metadata": {},
   "source": [
    "\n",
    "# 사칙연산 순서 : 곱하기 나누기 더하기 빼기\n",
    "\n",
    "# string : 문자 열\n",
    "\n",
    "multiline = '''\n",
    "여러줄\n",
    "스트링을\n",
    "정의하는 방법'''\n",
    "\n",
    "multiline2 = \"한 줄에 개행문자 \\n을 쓰는게 편리함\"\n",
    "\n",
    "print(\"%s %s %s\" % (\"스트링을 출력합니다\", multiline, multiline2))"
   ]
  },
  {
   "cell_type": "code",
   "execution_count": 36,
   "metadata": {},
   "outputs": [
    {
     "name": "stdout",
     "output_type": "stream",
     "text": [
      "hello word"
     ]
    }
   ],
   "source": [
    "#print 만 사용하면 자동으로 끝 문자에 개행이 들어가 줄바꿈이 된다.\n",
    "#변경하길 원한다면 end = ''을 사용하여 변경.\n",
    "# end -> print의 마지막 문자를 무엇으로 할지 지정 가능 \\t 등\n",
    "\n",
    "print (\"hello word\", end ='')"
   ]
  },
  {
   "cell_type": "code",
   "execution_count": 40,
   "metadata": {},
   "outputs": [
    {
     "name": "stdout",
     "output_type": "stream",
     "text": [
      "안녕하삼\n",
      "하이하이\n"
     ]
    }
   ],
   "source": [
    "#스트링도 사칙연산이 가능하다.\n",
    "print(\"안녕\"+\"하삼\")\n",
    "print(\"하이\"*2)"
   ]
  },
  {
   "cell_type": "code",
   "execution_count": 48,
   "metadata": {},
   "outputs": [
    {
     "name": "stdout",
     "output_type": "stream",
     "text": [
      "확통\n",
      "['이산수학', '알고리즘']\n"
     ]
    },
    {
     "data": {
      "text/plain": [
       "['확통', '이산수학', '알고리즘', '운영체제', '시스템프로그래밍']"
      ]
     },
     "execution_count": 48,
     "metadata": {},
     "output_type": "execute_result"
    }
   ],
   "source": [
    "#list는 대괄호로 정의한다.\n",
    "class_list = ['확통','이산수학','알고리즘','운영체제']\n",
    "print(class_list[0])\n",
    "#사용 시에는 인덱스를 대괄호 안에 넣어 값을 불러올 수 있다.\n",
    "\n",
    "print(class_list[1:3])\n",
    "#인덱스 번호를 통한 슬라이스 가능, 1번째 인덱스부터 시작하여 3미만의 값을 가져올 수 있다.\n",
    "\n",
    "this_week = [class_list, class_list]\n",
    "this_week\n",
    "#list 자체를 파라미터로 사용할 수 있다. (합치기 용이함)\n",
    "\n",
    "class_list.append(\"시스템프로그래밍\") #list에 요소 추가하기\n",
    "class_list\n",
    "\n",
    "this_week\n",
    "# 파이썬에서의 list 이름은 포인터 역할, 즉 주소를 가리키기 때문에 원래 리스트 안의 요소를 추가하거나 변경하여 값을 수정해주면\n",
    "# 해당 리스트를 요소로 사용한 리스트에도 변경되어 출력된다.(값을 카피해서 가져오는게 아니라 실제 주소를 가리키기 때문에.)"
   ]
  },
  {
   "cell_type": "code",
   "execution_count": 57,
   "metadata": {},
   "outputs": [
    {
     "data": {
      "text/plain": [
       "['확통', '아이디와 이메일 보내기', '아이디와 이메일 보내기', '알고리즘', '운영체제', '시스템프로그래밍']"
      ]
     },
     "execution_count": 57,
     "metadata": {},
     "output_type": "execute_result"
    }
   ],
   "source": [
    "class_list.insert(1,\"아이디와 이메일 보내기\")\n",
    "#중간에 요소를 삽입하고 싶은 경우. 1번째 인덱스 위치에 해당 값이 추가된다.\n",
    "class_list"
   ]
  },
  {
   "cell_type": "code",
   "execution_count": 58,
   "metadata": {},
   "outputs": [
    {
     "data": {
      "text/plain": [
       "['확통', '아이디와 이메일 보내기', '알고리즘', '운영체제', '시스템프로그래밍']"
      ]
     },
     "execution_count": 58,
     "metadata": {},
     "output_type": "execute_result"
    }
   ],
   "source": [
    "class_list.remove(\"아이디와 이메일 보내기\")\n",
    "class_list"
   ]
  },
  {
   "cell_type": "code",
   "execution_count": 87,
   "metadata": {},
   "outputs": [
    {
     "data": {
      "text/plain": [
       "['B', 'A', 'A']"
      ]
     },
     "execution_count": 87,
     "metadata": {},
     "output_type": "execute_result"
    }
   ],
   "source": [
    "sample_list = ['A', 'B', 'A', 'A']\n",
    "sample_list.remove('A')\n",
    "sample_list\n",
    "# 값이 중복되는 경우엔 앞쪽 값이 먼저 지워진다."
   ]
  },
  {
   "cell_type": "code",
   "execution_count": 88,
   "metadata": {},
   "outputs": [
    {
     "data": {
      "text/plain": [
       "['A', 'A', 'B']"
      ]
     },
     "execution_count": 88,
     "metadata": {},
     "output_type": "execute_result"
    }
   ],
   "source": [
    "#sort : 메모리 안의 내용이 직접 정렬된다.\n",
    "#sorted : 정렬된 결과를 리턴해준다. 원래 값은 변경되지 않음.\n",
    "\n",
    "sorted(sample_list)"
   ]
  },
  {
   "cell_type": "code",
   "execution_count": 89,
   "metadata": {},
   "outputs": [
    {
     "data": {
      "text/plain": [
       "['B', 'A', 'A']"
      ]
     },
     "execution_count": 89,
     "metadata": {},
     "output_type": "execute_result"
    }
   ],
   "source": [
    "sample_list"
   ]
  },
  {
   "cell_type": "code",
   "execution_count": 90,
   "metadata": {},
   "outputs": [
    {
     "data": {
      "text/plain": [
       "['B', 'A', 'A']"
      ]
     },
     "execution_count": 90,
     "metadata": {},
     "output_type": "execute_result"
    }
   ],
   "source": [
    "#역순으로 정렬하고 싶은 경우 reverse 사용\n",
    "sample_list.sort(reverse=True)\n",
    "sample_list"
   ]
  },
  {
   "cell_type": "code",
   "execution_count": 91,
   "metadata": {},
   "outputs": [
    {
     "data": {
      "text/plain": [
       "['B', 'A']"
      ]
     },
     "execution_count": 91,
     "metadata": {},
     "output_type": "execute_result"
    }
   ],
   "source": [
    "#특정 위치의 요소를 지우는 방법\n",
    "del sample_list[2]\n",
    "#2번째 인덱스의 값이 지워진다\n",
    "sample_list"
   ]
  },
  {
   "cell_type": "code",
   "execution_count": 94,
   "metadata": {},
   "outputs": [
    {
     "data": {
      "text/plain": [
       "['확통', '이산수학', '알고리즘', 'B', 'A']"
      ]
     },
     "execution_count": 94,
     "metadata": {},
     "output_type": "execute_result"
    }
   ],
   "source": [
    "#리스트도 사칙연산(+ *) 가능\n",
    "\n",
    "this_week2 = calss_list + sample_list\n",
    "this_week2\n",
    "\n"
   ]
  },
  {
   "cell_type": "code",
   "execution_count": 97,
   "metadata": {},
   "outputs": [
    {
     "data": {
      "text/plain": [
       "['확통',\n",
       " '아이디와 이메일 보내기',\n",
       " '알고리즘',\n",
       " '운영체제',\n",
       " '시스템프로그래밍',\n",
       " '확통',\n",
       " '아이디와 이메일 보내기',\n",
       " '알고리즘',\n",
       " '운영체제',\n",
       " '시스템프로그래밍',\n",
       " '확통',\n",
       " '아이디와 이메일 보내기',\n",
       " '알고리즘',\n",
       " '운영체제',\n",
       " '시스템프로그래밍']"
      ]
     },
     "execution_count": 97,
     "metadata": {},
     "output_type": "execute_result"
    }
   ],
   "source": [
    "this_week3 = class_list*3\n",
    "this_week3"
   ]
  },
  {
   "cell_type": "code",
   "execution_count": 104,
   "metadata": {},
   "outputs": [
    {
     "data": {
      "text/plain": [
       "[['확통', '아이디와 이메일 보내기', '알고리즘', '운영체제', '시스템프로그래밍'],\n",
       " ['확통', '아이디와 이메일 보내기', '알고리즘', '운영체제', '시스템프로그래밍']]"
      ]
     },
     "execution_count": 104,
     "metadata": {},
     "output_type": "execute_result"
    }
   ],
   "source": [
    "class_list2 = [class_list] * 2 \n",
    "class_list2\n",
    "#리스트 통째로 2번이 출력된다, 즉 2차원 리스트로 생성됨"
   ]
  },
  {
   "cell_type": "code",
   "execution_count": 105,
   "metadata": {},
   "outputs": [],
   "source": [
    "class_list2[0][1] = \"폐강\""
   ]
  },
  {
   "cell_type": "code",
   "execution_count": 107,
   "metadata": {},
   "outputs": [
    {
     "data": {
      "text/plain": [
       "[['확통', '폐강', '알고리즘', '운영체제', '시스템프로그래밍'],\n",
       " ['확통', '폐강', '알고리즘', '운영체제', '시스템프로그래밍']]"
      ]
     },
     "execution_count": 107,
     "metadata": {},
     "output_type": "execute_result"
    }
   ],
   "source": [
    "class_list2\n",
    "#리스트의 이름은 포인터와 같은 역할이므로, 주소를 가리키기 때문에\n",
    "# 리스트의 이름을 요소로 사용하여 class_list2를 만들면, 포인터가 2개 들어가있는 것처럼 작동되기 때문에 [0][1]번째 인덱스의 값\n",
    "#하나만 변경했어도, 해당 데이터가 들어있는 리스트가 class_list로 동잏하므로, *2를 해서 생성된 리스트의 값도 리턴시 변경된 값으로 나옴"
   ]
  },
  {
   "cell_type": "code",
   "execution_count": 112,
   "metadata": {},
   "outputs": [
    {
     "name": "stdout",
     "output_type": "stream",
     "text": [
      "5\n",
      "확통\n",
      "시스템프로그래밍\n"
     ]
    }
   ],
   "source": [
    "print(len(class_list))\n",
    "#몇 개의 엘레멘트가 있는지 확인 가능\n",
    "\n",
    "print(max(class_list))\n",
    "#정렬시 가장 큰 값(앞에 있는 것)으로 인식되는 값을 리턴해줌 (숫자 외에도 적용 가능)\n",
    "\n",
    "print(min(class_list))\n",
    "# max와 반대. 최소값(뒤에 있는 것) 리턴"
   ]
  },
  {
   "cell_type": "code",
   "execution_count": 115,
   "metadata": {},
   "outputs": [
    {
     "data": {
      "text/plain": [
       "['확통', 3, ['리스트', '값등']]"
      ]
     },
     "execution_count": 115,
     "metadata": {},
     "output_type": "execute_result"
    }
   ],
   "source": [
    "#파이썬은 데이터의 타입에 상관 없이 모두 합쳐서 사용할 수 있다.\n",
    "[\"확통\", 3 , ['리스트','값등']]"
   ]
  },
  {
   "cell_type": "code",
   "execution_count": 117,
   "metadata": {},
   "outputs": [
    {
     "name": "stdout",
     "output_type": "stream",
     "text": [
      "<class 'tuple'>\n"
     ]
    }
   ],
   "source": [
    "#튜플은 한 번 생성하면 값(item)을 변경할 수 없다.\n",
    "#전체를 재정의 하거나 해야하는데, 안의 요소만 변경하고 싶다면 list로 변환하여 수정한다.\n",
    "pi = (3, 1, 4, 1, 5, 9)\n",
    "print(type(pi))"
   ]
  },
  {
   "cell_type": "code",
   "execution_count": 125,
   "metadata": {},
   "outputs": [
    {
     "name": "stdout",
     "output_type": "stream",
     "text": [
      "(3, 1, 4, 1, 5, 9)\n",
      "[3, 1, 4, 1, 5, 9]\n",
      "(3, 1, 4, 1, 5, 9)\n"
     ]
    }
   ],
   "source": [
    "#튜플을 리스트로 변환하는 방법\n",
    "list_pi = list(pi)\n",
    "print(pi)\n",
    "print(list_pi)\n",
    "\n",
    "#반대로 튜플로 변환하는 방법\n",
    "tuple_pi = tuple(list_pi)\n",
    "print(tuple_pi)\n",
    "\n",
    "#튜플과 리스트는 상호간에 자유롭게 변환할 수 있다."
   ]
  },
  {
   "cell_type": "code",
   "execution_count": 134,
   "metadata": {},
   "outputs": [
    {
     "name": "stdout",
     "output_type": "stream",
     "text": [
      "<class 'set'>\n",
      "{'sum', 'tom', 'add'}\n",
      "<class 'dict'>\n",
      "dict_keys(['tom', 'add', 'sum'])\n",
      "dict_values([2020, 2021, 2022])\n",
      "dict_items([('tom', 2020), ('add', 2021), ('sum', 2022)])\n"
     ]
    }
   ],
   "source": [
    "#딕셔너리 생성 : 중괄호를 통해 생성\n",
    "# {value} - set의 형태 / {key:vlaue} - dict의 형태\n",
    "\n",
    "attendence_set = {\"tom\", \"add\", \"sum\", \"tom\"}\n",
    "print(type(attendence_set))\n",
    "print(attendence_set)\n",
    "#중복으로 값을 넣으면 한개의 결과만 출력되고, 순서도 입력값의 순서와 다르게 (순서없음) 리턴됨\n",
    "# set과 dict 모두 순서는 없지만, dict는 순서를 유지할 수 있다.\n",
    "\n",
    "student_number = {\"tom\":2020 , \"add\" : 2021, \"sum\" : 2022 }\n",
    "print(type(student_number))\n",
    "\n",
    "print(student_number.keys()) #key만 출력\n",
    "print(student_number.values()) #value만 출력\n",
    "print(student_number.items()) #v모두 출력"
   ]
  },
  {
   "cell_type": "code",
   "execution_count": 1,
   "metadata": {},
   "outputs": [],
   "source": [
    "from collections import OrderedDict\n",
    "# dict의 순서를 유지하기 위한 패키지"
   ]
  },
  {
   "cell_type": "code",
   "execution_count": 2,
   "metadata": {},
   "outputs": [],
   "source": [
    "#2주 2강 : 파이썬 베이직"
   ]
  },
  {
   "cell_type": "code",
   "execution_count": 5,
   "metadata": {},
   "outputs": [
    {
     "ename": "SyntaxError",
     "evalue": "invalid syntax (<ipython-input-5-5a99875a2903>, line 1)",
     "output_type": "error",
     "traceback": [
      "\u001b[1;36m  File \u001b[1;32m\"<ipython-input-5-5a99875a2903>\"\u001b[1;36m, line \u001b[1;32m1\u001b[0m\n\u001b[1;33m    if:\u001b[0m\n\u001b[1;37m      ^\u001b[0m\n\u001b[1;31mSyntaxError\u001b[0m\u001b[1;31m:\u001b[0m invalid syntax\n"
     ]
    }
   ],
   "source": [
    "if:\n",
    "elif:\n",
    "else:\n",
    "    \n",
    "#if문의 형태\n",
    "\n",
    "\n"
   ]
  },
  {
   "cell_type": "code",
   "execution_count": 10,
   "metadata": {},
   "outputs": [
    {
     "name": "stdout",
     "output_type": "stream",
     "text": [
      "힘내요 장학금 가능\n"
     ]
    }
   ],
   "source": [
    "my_gpa = 3.5\n",
    "my_year = 2019\n",
    "\n",
    "if(my_gpa > 4.0):\n",
    "    print (\"최우수 장학금 가능\")\n",
    "    \n",
    "elif not my_gpa <= 2.0: # not은 부정으로 사용 !와 동일\n",
    "    print(\"힘내요 장학금 가능\")\n",
    "else :\n",
    "    print( \"장학금 가능\")"
   ]
  },
  {
   "cell_type": "code",
   "execution_count": 16,
   "metadata": {},
   "outputs": [
    {
     "name": "stdout",
     "output_type": "stream",
     "text": [
      "[0, 1, 2, 3, 4, 5, 6, 7, 8, 9]\n",
      "[0, 2, 4, 6, 8]\n"
     ]
    }
   ],
   "source": [
    "#for i in range(0, 10) : #range 는 list를 반환해주는 형태, 주로 for 문의 범위로 사용된다.\n",
    "\n",
    "print(list(range(0,10)))\n",
    "print(list(range(0,10,2))) #0부터 10이전까지 2의 범위로 리스트를 생성"
   ]
  },
  {
   "cell_type": "code",
   "execution_count": 18,
   "metadata": {},
   "outputs": [
    {
     "name": "stdout",
     "output_type": "stream",
     "text": [
      "0 1 2 3 4 5 6 7 8 9 "
     ]
    }
   ],
   "source": [
    "for x in range(0,10):\n",
    "    print(x, end=\" \") #한칸씩 띄우면서 출력 가능"
   ]
  },
  {
   "cell_type": "code",
   "execution_count": 21,
   "metadata": {},
   "outputs": [
    {
     "name": "stdout",
     "output_type": "stream",
     "text": [
      "깃허브 가입\n",
      "파이썬 설치\n",
      "문제 1번\n",
      "문제 2번\n",
      "깃허브 가입\n",
      "파이썬 설치\n",
      "문제 1번\n",
      "문제 2번\n"
     ]
    }
   ],
   "source": [
    "homework_list = [\"깃허브 가입\", \"파이썬 설치\", \"문제 1번\", \"문제 2번\"]\n",
    "for item in homework_list:\n",
    "    print( item)\n",
    "    #이터레이터의 이름은 item으로 정하고, homework 리스트 안의 요소들의 갯수만큼 하나씩 돌며 print하는 형태\n",
    "    \n",
    "for item in [\"깃허브 가입\", \"파이썬 설치\", \"문제 1번\", \"문제 2번\"]:\n",
    "    print( item) #리스트를 그대로 적어줘도 됨"
   ]
  },
  {
   "cell_type": "code",
   "execution_count": 26,
   "metadata": {},
   "outputs": [
    {
     "name": "stdout",
     "output_type": "stream",
     "text": [
      "1\n",
      "2\n",
      "3\n",
      "10\n",
      "20\n",
      "30\n",
      "100\n",
      "200\n",
      "300\n"
     ]
    }
   ],
   "source": [
    "numbers = [[1,2,3], [10,20,30], [100,200,300]]\n",
    "for i in range(len(numbers)): #len은 전체 길이를 리턴즉, 리스트 안에 들어있는 엘리먼트의 갯수(3개 뭉치 123 102030 100200300)를 리턴한다.\n",
    "    for j in range(len(numbers[i])): # i가 range로 잡은 범위만큼 반복하게 되므로 j는 3번 반복하게 된다.\n",
    "        print(numbers[i][j]) # i는 0 1 2 반복(3회) j는 0 1 2 반복(인덱스 0 1 2 번을 돌고, 해당되는 인덱스 안의 요소 갯수(3)만큼)"
   ]
  },
  {
   "cell_type": "code",
   "execution_count": 28,
   "metadata": {},
   "outputs": [
    {
     "name": "stdout",
     "output_type": "stream",
     "text": [
      "0 2 4 6 8 "
     ]
    }
   ],
   "source": [
    "#중간에 루프를 멈추고 싶은 경우 brak 사용\n",
    "#조건을 지정해서 해당 조건일 때만 실행시키고 싶은 경우 continue 사용\n",
    "\n",
    "for x in range(0, 10):\n",
    "    if(x % 2): #x가 짝수인 경우에만 continue 뒤의 문장이 실행되도록 하는 형태\n",
    "        continue\n",
    "    print(x, end=\" \")"
   ]
  },
  {
   "cell_type": "code",
   "execution_count": 34,
   "metadata": {},
   "outputs": [
    {
     "name": "stdout",
     "output_type": "stream",
     "text": [
      "51\n"
     ]
    }
   ],
   "source": [
    "# while 문\n",
    "import random\n",
    "\n",
    "rand = random.randrange(0,100) # 0부터 100사이의 값 중 랜덤하게 값 하나를 리턴시켜줌\n",
    "print(rand)"
   ]
  },
  {
   "cell_type": "code",
   "execution_count": 36,
   "metadata": {},
   "outputs": [],
   "source": [
    "while(rand < 90): #rand의 값이 90 이상이 나올 때 까지(while은 일정 조건이 만족될 때 까지 반복한다)\n",
    "    print(rand) #출력\n",
    "    rand = random.randrange(0,100) #새로 랜덤값 생성\n",
    "    \n",
    "    #continue, break 사용 가능."
   ]
  },
  {
   "cell_type": "code",
   "execution_count": 39,
   "metadata": {},
   "outputs": [
    {
     "name": "stdout",
     "output_type": "stream",
     "text": [
      "1\n"
     ]
    }
   ],
   "source": [
    "#함수 정의\n",
    "#아래와 같은 형태로 사용 가능하다.\n",
    "def addNum(num1, num2):\n",
    "    total = num1 + num2\n",
    "    return total\n",
    "print(addNum(0,1))\n",
    "\n",
    "# print(total) <- total 변수는 def되어있는 함수 내에서만 사용되므로, 함수 외부에서 사용할 순 없다."
   ]
  },
  {
   "cell_type": "code",
   "execution_count": 42,
   "metadata": {},
   "outputs": [
    {
     "name": "stdout",
     "output_type": "stream",
     "text": [
      "다라마바사\n",
      "가나다라마바사아하앟앟앟\n"
     ]
    }
   ],
   "source": [
    "#파이썬3은 utf-8 유니코드 사용\n",
    "song = \"가나다라마바사\"\n",
    "print(song[-5:]) # 5번째 뒷글자에서부터 출력하는 슬라이싱\n",
    "print(song + \"아하앟앟앟\")"
   ]
  },
  {
   "cell_type": "code",
   "execution_count": 47,
   "metadata": {},
   "outputs": [
    {
     "name": "stdout",
     "output_type": "stream",
     "text": [
      "나는 주원 이고, 25 살입니다.\n",
      "나는 주원 이고, 25 살입니다\n"
     ]
    }
   ],
   "source": [
    "# fstring 사용법\n",
    "name = \"주원\"\n",
    "age = \"25\"\n",
    "print(\"나는 %s 이고, %s 살입니다.\" % (name, age))\n",
    "\n",
    "print(f\"나는 {name} 이고, {age} 살입니다\" ) #print 문 맨 앞에 f를 붙여 이런 형태로도 사용 가능"
   ]
  },
  {
   "cell_type": "code",
   "execution_count": 52,
   "metadata": {},
   "outputs": [
    {
     "data": {
      "text/plain": [
       "['asd sad', ' asd sad asd asd']"
      ]
     },
     "execution_count": 52,
     "metadata": {},
     "output_type": "execute_result"
    }
   ],
   "source": [
    "# upper : 대문자로 변경\n",
    "# lower : 소문자로 변경\n",
    "# 앞 글자만 대문자로 변경 : capitalize\n",
    "# 스트링이 알파벳으로만 구성되어있는지 확인 : isalpha (공백, 컴마등의 부가적인 문자 없이 순수 알파벳으로만 이루어져야 true 리턴)\n",
    "# 숫자를 포함한 알파벳으로 구성되어 있는지 확인 : isalnum\n",
    "# 특정 문자를 다른 문자로 바꾸고 싶은 경우 : replace \n",
    "# 문자열 안에서 특정 문자가 몇번째 자리에 위치해있는지 찾고싶은 경우 : find (숫자 값으로 결과 리턴됨)\n",
    "# 문자열 안의 공백을 기준으로 단어를 나눠줌 : split (list 형태로 리턴된다.)\n",
    "# 디폴트 값은 공백이고, 괄호 안에 자신이 나누고 싶은 문자를 지정해서 넣어주면 변경 가능함, 컴마 등,..\n",
    "# 문자열에서 앞 뒤 공백을 모두 지우고 싶은 경우 : strip\n",
    "# 오른쪽만 지우고 싶으면 rstrip, 왼쪽만 지우고 싶으면 lstrip으로 사용 가능.\n",
    "\n",
    "e_song = \"abcsdfs\"\n",
    "song = \"asd sad, asd sad asd asd\"\n",
    "e_song.isalpha()\n",
    "e_song.replace(\"s\", \"휴\")\n",
    "song.split()\n",
    "song.split(\",\")\n",
    "\n",
    "#파이썬은 스트링 처리가 매우 편리하다."
   ]
  },
  {
   "cell_type": "code",
   "execution_count": 64,
   "metadata": {},
   "outputs": [],
   "source": [
    "#파일 읽고 쓰는 방법\n",
    "\n",
    "test_file = open(\"./test_20210910.txt\", \"w\") # w : write, 쓰기\n"
   ]
  },
  {
   "cell_type": "code",
   "execution_count": 65,
   "metadata": {},
   "outputs": [
    {
     "name": "stdout",
     "output_type": "stream",
     "text": [
      "w\n",
      "./test_20210910.txt\n"
     ]
    }
   ],
   "source": [
    "#파일이 어떤 상태인지 확인하는 방법\n",
    "print(test_file.mode)\n",
    "print(test_file.name) #파일명 확인"
   ]
  },
  {
   "cell_type": "code",
   "execution_count": 66,
   "metadata": {},
   "outputs": [
    {
     "data": {
      "text/plain": [
       "5"
      ]
     },
     "execution_count": 66,
     "metadata": {},
     "output_type": "execute_result"
    }
   ],
   "source": [
    "test_file.write(\"hello\") #파일 안에 문자 입력\n",
    "#리턴 되는 값은 글자수.."
   ]
  },
  {
   "cell_type": "code",
   "execution_count": 68,
   "metadata": {},
   "outputs": [],
   "source": [
    "test_file.close() #파일 닫기"
   ]
  },
  {
   "cell_type": "code",
   "execution_count": 72,
   "metadata": {},
   "outputs": [
    {
     "name": "stdout",
     "output_type": "stream",
     "text": [
      "hello\n"
     ]
    }
   ],
   "source": [
    "test_file = open(\"./test_20210910.txt\", \"r\")\n",
    "test_file_read = test_file.read()\n",
    "print(test_file_read)\n",
    "test_file.close() #사용 후엔 닫아줘야 함"
   ]
  },
  {
   "cell_type": "code",
   "execution_count": 73,
   "metadata": {},
   "outputs": [],
   "source": [
    "import os \n",
    "os.remove(\"./test_20210910.txt\") #파일 삭제하기"
   ]
  },
  {
   "cell_type": "code",
   "execution_count": 93,
   "metadata": {},
   "outputs": [],
   "source": [
    "class Student:\n",
    "    '''학생 정보 클래스'''\n",
    "    __name = \" \"\n",
    "    __id = 0\n",
    "    __gpa = 0.0\n",
    "    \n",
    "    def __init__(self, name, id, gpa):\n",
    "        self.__name = name\n",
    "        self.__id = id\n",
    "        self.__gpa = gpa\n",
    "        \n",
    "        #이런 형태로 초기화 함수를 짤 수 있다.\n",
    "        \n",
    "    def set_name(self, name):  #내가 입력한 이름 name으로 변경하기 위해 set 해주는 함수\n",
    "        self.__name = name\n",
    "        \n",
    "    def get_name(self):\n",
    "        return self.__name # self 자신의 name을 가져오는 get 함수\n",
    " \n",
    "    def toString(self):\n",
    "        return f\"학생의 이름은 {self.__name}이다\"\n",
    "    \n",
    "#파이썬에서는 private, public을 따로 정의하지 않고, 언더바를 통해 사용한다.\n",
    "# __var :  -> 상속하면 사용 불기\n",
    "# _var : protected  -> 상속하면 상속한 클래스는 사용 가능\n",
    "\n",
    "# 클래스 내에 정의된 함수는 '메서드'라고 한다.\n",
    "# 클래스 내의 메서드의 첫번째 인자가 self (c++에서 this같은 역할)로 들어간다. 약속임\n",
    "# self : 클래스 자체를 의미\n",
    "# __init__ : 초기화 하기 위한 함수, 약속임\n"
   ]
  },
  {
   "cell_type": "code",
   "execution_count": 94,
   "metadata": {},
   "outputs": [
    {
     "data": {
      "text/plain": [
       "'학생 정보 클래스'"
      ]
     },
     "execution_count": 94,
     "metadata": {},
     "output_type": "execute_result"
    }
   ],
   "source": [
    "juwon = Student(\"juwon\", 2019, 3.5)  #init시 필요한 데이터들을 입력해서 Student 클래스를 사용하기 위해 초기화 진행\n",
    "juwon.__doc__ #정해둔 클래스의 이름 확인하기"
   ]
  },
  {
   "cell_type": "code",
   "execution_count": 96,
   "metadata": {},
   "outputs": [
    {
     "data": {
      "text/plain": [
       "'학생의 이름은 juwon이다'"
      ]
     },
     "execution_count": 96,
     "metadata": {},
     "output_type": "execute_result"
    }
   ],
   "source": [
    "juwon.toString() # self는 인자로 받지 않음. "
   ]
  },
  {
   "cell_type": "code",
   "execution_count": 123,
   "metadata": {},
   "outputs": [],
   "source": [
    "#클래스 상속하기\n",
    "class UnionStudent(Student): #유니온이란 이름으로 스튜던트를 상속받는 클래스 생성\n",
    "    __unionclass = \"\"\n",
    "    def __init__(self, name, id, gpa, unionclass):\n",
    "        self.__unionclass = unionclass #위와 동일하게 초기화 해주는 부분\n",
    "        super(UnionStudent, self).__init__(name, id, gpa) \n",
    "        #겹치는 변수는 부모 클래스 스튜던트에서 받아오면 됨. super를 사용하는 형태로 받아올 수 있다.\n",
    "        # super(상속받은 현재 클래스명, self).__init(부모 클래스와 겹치는 변수 목록) : 받아와서 초기화 해주는 부분.\n",
    "        ''' 즉, \n",
    "        self.__name = name\n",
    "        self.__id = id\n",
    "        self.__gpa = gpa\n",
    "         이 내용을 생략할 수 있는 것이다.'''\n",
    "        \n",
    "        #파이썬은 중괄호 등이 아닌 탭으로 문장을 묶고 구분한다.\n",
    "        \n",
    "    def set_class(self, unionclass):\n",
    "         self.__unionclass = unionclass\n",
    "            \n",
    "    def get_class(self):\n",
    "        return self.__unionclass\n",
    "    \n",
    "    def get_type(self):\n",
    "        print(\"Student Union\")\n",
    "            \n",
    "            #자식 클래스에 대한 함수들 정의\n",
    "        \n",
    "    def toString(self):\n",
    "        return f\"학생의 이름은 {self.get_name()}이고, 클래스는 {self.__unionclass}이다.\"\n",
    "        \n",
    "        \n",
    "        #부모 클래스에서 쓰던 name 함수는 private (__)으로 정의했기 때문에 바로 가져올 수 없다.\n",
    "        # public으로 선언한 get 함수를 통해 간접적으로 가져와야 함.\n",
    "        # 자식 클래스에서 정의한 unionclass 변수는 바로 가져다 쓸 수 있음.\n",
    "        "
   ]
  },
  {
   "cell_type": "code",
   "execution_count": 124,
   "metadata": {},
   "outputs": [],
   "source": [
    "mike = UnionStudent(\"Mike\", 2020, 3.5, \"과 대표\")"
   ]
  },
  {
   "cell_type": "code",
   "execution_count": 125,
   "metadata": {},
   "outputs": [
    {
     "data": {
      "text/plain": [
       "'학생의 이름은 Mike이고, 클래스는 과 대표이다.'"
      ]
     },
     "execution_count": 125,
     "metadata": {},
     "output_type": "execute_result"
    }
   ],
   "source": [
    "mike.toString()"
   ]
  },
  {
   "cell_type": "code",
   "execution_count": 127,
   "metadata": {},
   "outputs": [
    {
     "data": {
      "text/plain": [
       "[0, 1, 2, 3, 4, 5, 6, 7, 8, 9]"
      ]
     },
     "execution_count": 127,
     "metadata": {},
     "output_type": "execute_result"
    }
   ],
   "source": [
    "# inline operation\n",
    "\n",
    "list_sample = [] #빈 리스트 생성\n",
    "for i in range (10):\n",
    "    list_sample.append(i) # for문을 통해 리스트를 원하는 숫자까지 자동으로 채울 수 있다.\n",
    "    \n",
    "    \n",
    "list_sample"
   ]
  },
  {
   "cell_type": "code",
   "execution_count": 131,
   "metadata": {},
   "outputs": [
    {
     "data": {
      "text/plain": [
       "[0, 1, 2, 3, 4, 5, 6, 7, 8, 9]"
      ]
     },
     "execution_count": 131,
     "metadata": {},
     "output_type": "execute_result"
    }
   ],
   "source": [
    "# for 문을 list 생성할때 [] 대괄호 안에 넣어 이를 한 줄로 표현할 수 있음.\n",
    "list_sample2 = [j for j in range(10)] # 맨 앞에 이터레이터를 한번 더 적어주기!\n",
    "list_sample2"
   ]
  },
  {
   "cell_type": "code",
   "execution_count": 133,
   "metadata": {},
   "outputs": [
    {
     "data": {
      "text/plain": [
       "'[0, 1, 2, 3, 4, 5, 6, 7, 8, 9]'"
      ]
     },
     "execution_count": 133,
     "metadata": {},
     "output_type": "execute_result"
    }
   ],
   "source": [
    "str(list_sample2) #전체를 스트링으로 변경하고 싶을 때. - 통째로 스트링으로 변경된다."
   ]
  },
  {
   "cell_type": "code",
   "execution_count": 135,
   "metadata": {},
   "outputs": [
    {
     "data": {
      "text/plain": [
       "','"
      ]
     },
     "execution_count": 135,
     "metadata": {},
     "output_type": "execute_result"
    }
   ],
   "source": [
    "str(list_sample2)[2] # list의 반환값으로 나온 내용 중 2번째 자리에 있는 것만 str으로 변환해서 리턴해줌"
   ]
  },
  {
   "cell_type": "code",
   "execution_count": 138,
   "metadata": {},
   "outputs": [
    {
     "data": {
      "text/plain": [
       "['0', '1', '2', '3', '4', '5', '6', '7', '8', '9']"
      ]
     },
     "execution_count": 138,
     "metadata": {},
     "output_type": "execute_result"
    }
   ],
   "source": [
    "str_list = [str(item) for item in list_sample2] # item 이터레이터가 list안에 있는 요소의 갯수만큼 돌면서, str으로 변환된다.\n",
    "#리스트 안의 요소들만 추출해서 스트링으로 바뀌어져 나온다.\n",
    "#리스트의 형태 자체는 유지하고 있음\n",
    "str_list\n"
   ]
  },
  {
   "cell_type": "code",
   "execution_count": 140,
   "metadata": {},
   "outputs": [
    {
     "data": {
      "text/plain": [
       "list"
      ]
     },
     "execution_count": 140,
     "metadata": {},
     "output_type": "execute_result"
    }
   ],
   "source": [
    "type(str_list)"
   ]
  },
  {
   "cell_type": "code",
   "execution_count": 144,
   "metadata": {},
   "outputs": [
    {
     "data": {
      "text/plain": [
       "['0', '2', '4', '6', '8']"
      ]
     },
     "execution_count": 144,
     "metadata": {},
     "output_type": "execute_result"
    }
   ],
   "source": [
    "str_list = [str(item) for item in list_sample2 if item % 2 == 0]\n",
    "#if를 통해 조건 붙이기 가능. (짝수만 출력하는 경우의 형태)\n",
    "str_list"
   ]
  },
  {
   "cell_type": "code",
   "execution_count": 148,
   "metadata": {},
   "outputs": [
    {
     "data": {
      "text/plain": [
       "[0, 1, 4, 3, 8, 5, 12, 7, 16, 9]"
      ]
     },
     "execution_count": 148,
     "metadata": {},
     "output_type": "execute_result"
    }
   ],
   "source": [
    "#리스트 요소 중 짝수의 값만 *2를 하여 생성하고 싶은 경우?\n",
    "\n",
    "str_list = [ item*2  if item % 2 == 0 else item for item in list_sample2]\n",
    "# 이터레이터 : item , if문을 통해 item이 짝수라면 item *2 를 실행, else 그게 아니라면(홀수) 원래 값 그대로 item이 리스트의 요소가 됨\n",
    "str_list"
   ]
  },
  {
   "cell_type": "code",
   "execution_count": 150,
   "metadata": {},
   "outputs": [
    {
     "data": {
      "text/plain": [
       "{2: 200, 4: 400}"
      ]
     },
     "execution_count": 150,
     "metadata": {},
     "output_type": "execute_result"
    }
   ],
   "source": [
    "# 딕셔너리에서도 동일하게 적용할 수 있다.\n",
    "\n",
    "num_dict = {1:100, 2:200, 3:300, 4:400}\n",
    "\n",
    "num_dict_filtered = { k: v for k, v in num_dict.items() if k%2 == 0}\n",
    "\n",
    "num_dict_filtered"
   ]
  }
 ],
 "metadata": {
  "kernelspec": {
   "display_name": "Python 3",
   "language": "python",
   "name": "python3"
  },
  "language_info": {
   "codemirror_mode": {
    "name": "ipython",
    "version": 3
   },
   "file_extension": ".py",
   "mimetype": "text/x-python",
   "name": "python",
   "nbconvert_exporter": "python",
   "pygments_lexer": "ipython3",
   "version": "3.7.3"
  }
 },
 "nbformat": 4,
 "nbformat_minor": 2
}
